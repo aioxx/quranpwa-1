{
 "cells": [
  {
   "cell_type": "markdown",
   "metadata": {},
   "source": [
    "### Downlaod from quran.gov.bd"
   ]
  },
  {
   "cell_type": "code",
   "execution_count": null,
   "metadata": {
    "dotnet_interactive": {
     "language": "csharp"
    },
    "polyglot_notebook": {
     "kernelName": "csharp"
    }
   },
   "outputs": [],
   "source": [
    "using System.IO;\n",
    "using System.Text.Json;\n",
    "using System.Net;\n",
    "\n",
    "var srcPath = @\"D:\\Faruque\\Projects\\quranpwa\\src\\assets\\\";\n",
    "var quranDataJson = File.ReadAllText(srcPath + \"quran-data.json\");\n",
    "\n",
    "public class QuranData\n",
    "{\n",
    "    public List<List<object>> suras { get; set; }\n",
    "    public List<List<int>> hizb_quarters { get; set; }\n",
    "    public List<List<int>> manzils { get; set; }\n",
    "    public List<List<int>> rukus { get; set; }\n",
    "    public List<List<int>> pages { get; set; }\n",
    "    public List<List<object>> sajdas { get; set; }\n",
    "    public List<List<int>> juzs { get; set; }\n",
    "}\n",
    "\n",
    "var quranData = JsonSerializer.Deserialize<QuranData>(quranDataJson);\n",
    "\n",
    "record DownloadableFile(string url, string filename);\n",
    "\n",
    "var downlaodableFiles = new List<DownloadableFile>();\n",
    "\n",
    "for(int i = 0; i < quranData.suras.Count; i++){\n",
    "    var sura = quranData.suras[i];\n",
    "    var serial = i + 1;\n",
    "    //var start = (int)sura[0];\n",
    "    var ayas = int.Parse(sura[1].ToString());\n",
    "\n",
    "    for(int j = 1; j <= ayas; j++){\n",
    "        downlaodableFiles.Add( new($\"{serial}/{serial}-{j}.mp3\", $\"{serial.ToString().PadLeft(3, '0')}{j.ToString().PadLeft(3, '0')}.mp3\"));\n",
    "    }\n",
    "}\n",
    "\n",
    "var urlBase = \"http://quran.gov.bd/quran/Sound/bangla\";\n",
    "var downloadPath = @\"D:\\Faruque\\Projects\\QuranAudio\\mahmudur_rahman_quran.gov.bd\";\n",
    "\n",
    "foreach (var downlaodableFile in downlaodableFiles){\n",
    "    string url = $\"{urlBase}/{downlaodableFile.url}\";\n",
    "    string filePath = $\"{downloadPath}\\\\{downlaodableFile.filename}\";\n",
    "\n",
    "    if (File.Exists(filePath))\n",
    "        continue;\n",
    "\n",
    "    using (var client = new WebClient())\n",
    "    {\n",
    "        client.DownloadFile(url, filePath);\n",
    "    }\n",
    "    Console.WriteLine($\"Downloaded file: {downlaodableFile}\");\n",
    "}\n",
    "\n",
    "Console.WriteLine($\"Download completed\");\n"
   ]
  }
 ],
 "metadata": {
  "kernelspec": {
   "display_name": ".NET (C#)",
   "language": "C#",
   "name": ".net-csharp"
  },
  "language_info": {
   "name": "polyglot-notebook"
  },
  "polyglot_notebook": {
   "kernelInfo": {
    "defaultKernelName": "csharp",
    "items": [
     {
      "aliases": [],
      "languageName": "csharp",
      "name": "csharp"
     }
    ]
   }
  }
 },
 "nbformat": 4,
 "nbformat_minor": 2
}
